{
 "cells": [
  {
   "cell_type": "code",
   "execution_count": null,
   "id": "f797e5ba-5491-4b97-a8fb-6aeef9706492",
   "metadata": {},
   "outputs": [],
   "source": [
    "import numpy as np\n",
    "coop = np.array( [ 1, 0 ] )\n",
    "bet = np.array( [ 0, 1 ] )\n",
    "# defining all strategies\n",
    "# template function\n",
    "def strategy( round_number, match_history, player_index ) : \n",
    "    \n",
    "    return "
   ]
  }
 ],
 "metadata": {
  "kernelspec": {
   "display_name": "Python 3 (ipykernel)",
   "language": "python",
   "name": "python3"
  },
  "language_info": {
   "codemirror_mode": {
    "name": "ipython",
    "version": 3
   },
   "file_extension": ".py",
   "mimetype": "text/x-python",
   "name": "python",
   "nbconvert_exporter": "python",
   "pygments_lexer": "ipython3",
   "version": "3.12.4"
  }
 },
 "nbformat": 4,
 "nbformat_minor": 5
}
