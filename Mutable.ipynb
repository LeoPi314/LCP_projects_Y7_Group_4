{
 "cells": [
  {
   "cell_type": "markdown",
   "id": "c2552060-524b-47dd-9c91-45a0c6dcd23c",
   "metadata": {},
   "source": [
    "## Mutants:\n",
    "#### since the discovery of their existence they have been regarded with fear, suspicious, often hatred\n",
    "Implement a rMPIPD where strategies are allowed to mutate. The goal is to simulate the effect of genetic mutations and the effect of natural selection. A parameter (gene) should encode the attidue of an individual to cooperate, such gene can mutate randomly and the corresponding phenotype should compete in the MPIPD such that the best-fitted is determined.  \n"
   ]
  },
  {
   "cell_type": "markdown",
   "id": "314563cf-6e70-4171-ae63-a71c0b57976f",
   "metadata": {},
   "source": [
    "## Solution\n",
    "The most compact way to implement this using the previous results and defined elements is to implement a more complex structure which can behave differently according to a memory element. This can be done using a class to manage Mutants: a mutant should have a genome which contains the gene that allows him to mutate and determine the nature of the mutation. To simulate this, the Mutant is a guy that is allowed to use some of the previous defined strategies, each one with a defined probability that changes during the match or tournament; to do so it is always allowed to have access to nice_guy and bad_guy, and from those can create mainly_nice, mainly_bad and random. At every moment the class can be called to get a move and the evolve function can be invoked to make it change."
   ]
  },
  {
   "cell_type": "code",
   "execution_count": 86,
   "id": "c29fbd66-6d87-42e5-931f-903bff731419",
   "metadata": {},
   "outputs": [],
   "source": [
    "class mutant :\n",
    "\n",
    "    # CONSTRUCTOR\n",
    "    # every mutant is created with a name and a list of tuples, containing accessible strategies and their initial weight\n",
    "    def __init__( self, name, starting_strategy ) : \n",
    "        self.name = name\n",
    "        # the series of trategies that can be chosen, starting from a list of strategies and their probabilities\n",
    "        self.strategy_dic = { i[0] : strategies[i[0]] for i in starting_strategy } \n",
    "        # NiceGuy and BadGuy incarnate the basic behaviour, thus are always included as last elements, if not already present\n",
    "        self.strategy_dic[ 'NiceGuy' ] = nice_guy\n",
    "        self.strategy_dic[ 'BadGuy' ] = bad_guy\n",
    "        # this process creates an internal dictionary similar to strategies but with limited entries, useful for later cycles\n",
    "        # the gene in rapresented by the strategy list, a list of values that determine which strategy use to create the next move\n",
    "        # this is rapresented by a normalized range of values chosen by a uniform distribution\n",
    "        starting_weight = [ i[1] for i in starting_strategy ]\n",
    "        self.strategy = np.array( starting_weight/np.sum(starting_weight) )\n",
    "        # reshaping the weight array to consider added elements\n",
    "        self.strategy.resize( len( self.strategy_dic ) )\n",
    "        self.dic_keys = list( self.strategy_dic.keys() )\n",
    "            \n",
    "    # REPR OUTPUT\n",
    "    def __repr__( self ) :\n",
    "        return f\"<Mutant name:{self.name} strategy_dic:{self.strategy_dic} strategy:{self.strategy}>\"\n",
    "\n",
    "    # PRINTING OUTPUT\n",
    "    def __str__( self ) :\n",
    "        return f\"Mutant class:\\n   Name: {self.name}\\n   Strategies in the genome: {[ i for i in self.strategy_dic]}\\n   Gene values: {self.strategy}\"\n",
    "    \n",
    "    # defining the generic function that returns a move for a mutant\n",
    "    def move( self, round_number = 0, match_history = [[]], player_index = 0 ) :\n",
    "        # generating a random value to chose the strategy\n",
    "        u = npr.random( )\n",
    "        # cumulative sum of weights\n",
    "        cumulative = [ np.sum( self.strategy[ 0 : i + 1 ] ) for i in range( self.strategy.shape[ 0 ] - 1 ) ]\n",
    "        # cycling over strategies weights\n",
    "        for i in range( len( cumulative ) ) :\n",
    "            if ( u < cumulative[ i ] ) : \n",
    "                return self.strategy_dic[ self.dic_keys[ i ] ]( round_number, match_history, player_index )    \n",
    "\n",
    "    # function to change genome (strategy) corresponding to previous round results\n",
    "    def mutate( self, round_results ) :\n",
    "        # recovering existing strategy\n",
    "        strat = self.strategy\n",
    "        # updating strategy\n",
    "        \n",
    "        # renormalize strategy so that move can be used with a uniform distribution\n",
    "        self.strategy = strat / np.sum( strat )\n",
    "\n",
    "\n",
    "# the mutation can be encoded in a second moment by the usage of \n",
    "# @classmethod\n",
    "# def mutate( cls, * x ) :\n",
    "#     cls.strategy = x"
   ]
  },
  {
   "cell_type": "code",
   "execution_count": 87,
   "id": "dd4eb944-576e-4bc2-bf33-651bcacb1768",
   "metadata": {},
   "outputs": [
    {
     "name": "stdout",
     "output_type": "stream",
     "text": [
      "Mutant class:\n",
      "   Name: user\n",
      "   Strategies in the genome: ['NiceGuy', 'TitForTat', 'Thanos', 'BadGuy']\n",
      "   Gene values: [0.25  0.625 0.125 0.   ]\n",
      "[array([1, 0]), array([1, 0]), array([1, 0]), array([1, 0]), array([1, 0]), array([1, 0]), array([1, 0]), array([1, 0]), array([1, 0]), array([1, 0])]\n"
     ]
    }
   ],
   "source": [
    "st = [ ( 'Thanos', 0.3 ), ( 'TitForTat', 0.7 ), ( 'NiceGuy', 1.) ]\n",
    "dic = { i : strategies[st[i][0]] for i in range(len(st)) }\n",
    "if ( not ( bad_guy in dic.values() ) ) : dic[ len(dic) ] = bad_guy\n",
    "# print([ (i, dic[i])  for i in dic ])\n",
    "# print( sum( np.array( [ 0.1, 0.5, 0.3 ] ) ) )\n",
    "\n",
    "user = mutant( 'user', [ ( 'NiceGuy', 0.2 ), ( 'TitForTat', 0.5 ), ( 'Thanos', 0.1 ) ] )\n",
    "print( user )\n",
    "print( [ user.move() for i in range(10) ] )\n",
    "# print( tit_for_tat( round_number = 0, match_history = [[]], player_index = 0 ) )"
   ]
  }
 ],
 "metadata": {
  "kernelspec": {
   "display_name": "Python 3 (ipykernel)",
   "language": "python",
   "name": "python3"
  },
  "language_info": {
   "codemirror_mode": {
    "name": "ipython",
    "version": 3
   },
   "file_extension": ".py",
   "mimetype": "text/x-python",
   "name": "python",
   "nbconvert_exporter": "python",
   "pygments_lexer": "ipython3",
   "version": "3.12.4"
  }
 },
 "nbformat": 4,
 "nbformat_minor": 5
}
