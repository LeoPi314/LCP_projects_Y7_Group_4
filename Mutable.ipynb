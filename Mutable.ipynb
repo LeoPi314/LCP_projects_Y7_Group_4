{
 "cells": [
  {
   "cell_type": "markdown",
   "id": "c2552060-524b-47dd-9c91-45a0c6dcd23c",
   "metadata": {},
   "source": [
    "## Mutants:\n",
    "#### since the discovery of their existence they have been regarded with fear, suspicious, often hatred\n",
    "Implement a rMPIPD where strategies are allowed to mutate. The goal is to simulate the effect of genetic mutations and the effect of natural selection. A parameter (gene) should encode the attidue of an individual to cooperate, such gene can mutate randomly and the corresponding phenotype should compete in the MPIPD such that the best-fitted is determined.  \n"
   ]
  },
  {
   "cell_type": "markdown",
   "id": "314563cf-6e70-4171-ae63-a71c0b57976f",
   "metadata": {},
   "source": [
    "## Solution\n",
    "The most compact way to implement this using the previous results and defined elements is to implement a more complex structure which can behave differently according to a memory element. This can be done using a class to manage Mutants: a mutant should have a genome which contains the gene that allows him to mutate and determine the nature of the mutation. To simulate this, the Mutant is a guy that is allowed to use some of the previous defined strategies, each one with a defined probability that changes during the match or tournament; to do so it is always allowed to have access to nice_guy and bad_guy, and from those can create mainly_nice, mainly_bad and random. At every moment the class can be called to get a move and the evolve function can be invoked to make it change."
   ]
  },
  {
   "cell_type": "code",
   "execution_count": 70,
   "id": "c29fbd66-6d87-42e5-931f-903bff731419",
   "metadata": {},
   "outputs": [
    {
     "name": "stdout",
     "output_type": "stream",
     "text": [
      "0.25\n",
      "[1 0]\n",
      "[1 0]\n",
      "0.25\n"
     ]
    }
   ],
   "source": [
    "class mutant :\n",
    "    # every mutant is created with a name and a list of tuples, containing accessible strategies and their initial weight\n",
    "    def __init__( self, name, starting_strategy ) : \n",
    "        self.name = name\n",
    "        # the series of trategies that can be chosen, starting from a list of strategies and their probabilities\n",
    "        self.strategy_dic = { i[0] : strategies[i[0]] for i in starting_strategy) } \n",
    "        # NiceGuy and BadGuy incarnate the basic behaviour, thus are always included as last elements, if not already present\n",
    "        self.strategy_dic[ 'NiceGuy' ] = nice_guy\n",
    "        self.strategy_dic[ 'BadGuy' ] = bad_guy\n",
    "        # this process creates an internal dictionary similar to strategies but with limited entries, useful for later cycles\n",
    "        "
   ]
  },
  {
   "cell_type": "code",
   "execution_count": 87,
   "id": "dd4eb944-576e-4bc2-bf33-651bcacb1768",
   "metadata": {},
   "outputs": [
    {
     "name": "stdout",
     "output_type": "stream",
     "text": [
      "[(0, <function balancing_guy at 0x728828da2de0>), (1, <function tit_for_tat at 0x728828da3240>), (2, <function nice_guy at 0x728831ad7ec0>), (3, <function bad_guy at 0x7288339f3a60>)]\n"
     ]
    }
   ],
   "source": [
    "st = [ ( 'Thanos', 0.3 ), ( 'TitForTat', 0.7 ), ( 'NiceGuy', 1.) ]\n",
    "dic = { i : strategies[st[i][0]] for i in range(len(st)) }\n",
    "if ( not ( bad_guy in dic.values() ) ) : dic[ len(dic) ] = bad_guy\n",
    "print([ (i, dic[i])  for i in dic ])"
   ]
  },
  {
   "cell_type": "code",
   "execution_count": null,
   "id": "9289ff8c-b350-453d-94ad-d3362657cbcc",
   "metadata": {},
   "outputs": [],
   "source": []
  }
 ],
 "metadata": {
  "kernelspec": {
   "display_name": "Python 3 (ipykernel)",
   "language": "python",
   "name": "python3"
  },
  "language_info": {
   "codemirror_mode": {
    "name": "ipython",
    "version": 3
   },
   "file_extension": ".py",
   "mimetype": "text/x-python",
   "name": "python",
   "nbconvert_exporter": "python",
   "pygments_lexer": "ipython3",
   "version": "3.12.4"
  }
 },
 "nbformat": 4,
 "nbformat_minor": 5
}
